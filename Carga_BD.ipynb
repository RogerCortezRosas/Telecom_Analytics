{
 "cells": [
  {
   "cell_type": "code",
   "execution_count": 19,
   "metadata": {},
   "outputs": [],
   "source": [
    "import pandas as pd\n",
    "from sqlalchemy import create_engine\n",
    "import mysql.connector"
   ]
  },
  {
   "cell_type": "code",
   "execution_count": 6,
   "metadata": {},
   "outputs": [],
   "source": [
    "hojas = pd.read_excel(r\"C:\\Users\\rogel\\Documents\\Henry\\Internet.xlsx\",sheet_name=None)"
   ]
  },
  {
   "cell_type": "code",
   "execution_count": 7,
   "metadata": {},
   "outputs": [],
   "source": [
    "data_frames = {}\n",
    "for hoja, df in hojas.items():\n",
    "  data_frames[hoja] = df"
   ]
  },
  {
   "cell_type": "code",
   "execution_count": 20,
   "metadata": {},
   "outputs": [],
   "source": [
    "# Crear la cadena de conexión\n",
    "conexion = mysql.connector.connect(\n",
    "    host = \"localhost\",\n",
    "    user = 'root',\n",
    "    password = 'root1234',\n",
    "    database = 'telecom_argentina' )\n",
    "\n",
    "# Crear un cursor para ejecutar comandos  SQL\n",
    "\n",
    "cursor = conexion.cursor()\n",
    "\n",
    "# Crear una conexión a la base de datos MySQL\n",
    "#engine = create_engine(f'mysql+pymysql://{usuario}:{contraseña}@{host}:{puerto}/{base_de_datos}')"
   ]
  },
  {
   "cell_type": "code",
   "execution_count": 21,
   "metadata": {},
   "outputs": [],
   "source": [
    "# Cerrar el cursor y la conexión\n",
    "cursor.close()\n",
    "conexion.close()\n"
   ]
  },
  {
   "cell_type": "code",
   "execution_count": 23,
   "metadata": {},
   "outputs": [
    {
     "data": {
      "text/plain": [
       "dict_keys(['Acc_vel_loc_sinrangos', 'Velocidad_sin_Rangos', 'Accesos_tecnologia_localidad', 'Velocidad % por prov', 'Totales VMD', 'Totales Accesos Por Tecnología', 'Accesos Por Tecnología', 'Penetración-poblacion', 'Penetracion-hogares', 'Penetracion-totales', 'Totales Accesos por velocidad', 'Accesos por velocidad', 'Dial-BAf', 'Totales Dial-BAf', 'Ingresos '])"
      ]
     },
     "execution_count": 23,
     "metadata": {},
     "output_type": "execute_result"
    }
   ],
   "source": [
    "data_frames.keys()"
   ]
  },
  {
   "cell_type": "code",
   "execution_count": 24,
   "metadata": {},
   "outputs": [],
   "source": [
    "# Crear la conexión a la base de datos MySQL\n",
    "usuario = 'root'\n",
    "contraseña = 'root1234'\n",
    "host = 'localhost'\n",
    "base_de_datos = 'telecom_argentina'\n",
    "\n",
    "# Crear la cadena de conexión\n",
    "cadena_conexion = f'mysql+mysqlconnector://{usuario}:{contraseña}@{host}/{base_de_datos}'\n",
    "\n",
    "# Crear el motor de conexión\n",
    "engine = create_engine(cadena_conexion)"
   ]
  },
  {
   "cell_type": "code",
   "execution_count": 25,
   "metadata": {},
   "outputs": [
    {
     "data": {
      "text/plain": [
       "3065"
      ]
     },
     "execution_count": 25,
     "metadata": {},
     "output_type": "execute_result"
    }
   ],
   "source": [
    "# Crear la tabla en la base de datos MySQL a partir del DataFrame\n",
    "data_frames['Acc_vel_loc_sinrangos'].to_sql(name='acc_vel_loc_sinrangos', con=engine, if_exists='replace', index=False)\n"
   ]
  },
  {
   "cell_type": "code",
   "execution_count": 27,
   "metadata": {},
   "outputs": [
    {
     "data": {
      "text/plain": [
       "41"
      ]
     },
     "execution_count": 27,
     "metadata": {},
     "output_type": "execute_result"
    }
   ],
   "source": [
    "\n",
    "data_frames['Velocidad_sin_Rangos'].to_sql(name='velocidad_sin_rangos', con=engine, if_exists='replace', index=False)\n",
    "data_frames['Accesos_tecnologia_localidad'].to_sql(name='accesos_tecnologia_localidad', con=engine, if_exists='replace', index=False)\n",
    "data_frames['Velocidad % por prov'].to_sql(name='velocidad_por_prov', con=engine, if_exists='replace', index=False)\n",
    "data_frames['Totales VMD'].to_sql(name='totales_vmd', con=engine, if_exists='replace', index=False)\n",
    "data_frames['Totales Accesos Por Tecnología'].to_sql(name='totales_accesos_por_tecnología', con=engine, if_exists='replace', index=False)\n",
    "data_frames['Accesos Por Tecnología'].to_sql(name='accesos_por_tecnología', con=engine, if_exists='replace', index=False)\n",
    "data_frames['Penetración-poblacion'].to_sql(name='penetración_poblacion', con=engine, if_exists='replace', index=False)\n",
    "data_frames['Penetracion-hogares'].to_sql(name='penetracion_hogares', con=engine, if_exists='replace', index=False)\n",
    "data_frames['Penetracion-totales'].to_sql(name='penetracion_totales', con=engine, if_exists='replace', index=False)\n",
    "data_frames['Totales Accesos por velocidad'].to_sql(name='totales_accesos_por_velocidad', con=engine, if_exists='replace', index=False)\n",
    "data_frames['Accesos por velocidad'].to_sql(name='accesos_por_velocidad', con=engine, if_exists='replace', index=False)\n",
    "data_frames['Dial-BAf'].to_sql(name='dial_baf', con=engine, if_exists='replace', index=False)\n",
    "data_frames['Totales Dial-BAf'].to_sql(name='totales_dial_baf', con=engine, if_exists='replace', index=False)\n",
    "\n"
   ]
  }
 ],
 "metadata": {
  "kernelspec": {
   "display_name": "Python 3",
   "language": "python",
   "name": "python3"
  },
  "language_info": {
   "codemirror_mode": {
    "name": "ipython",
    "version": 3
   },
   "file_extension": ".py",
   "mimetype": "text/x-python",
   "name": "python",
   "nbconvert_exporter": "python",
   "pygments_lexer": "ipython3",
   "version": "3.9.11"
  }
 },
 "nbformat": 4,
 "nbformat_minor": 2
}
